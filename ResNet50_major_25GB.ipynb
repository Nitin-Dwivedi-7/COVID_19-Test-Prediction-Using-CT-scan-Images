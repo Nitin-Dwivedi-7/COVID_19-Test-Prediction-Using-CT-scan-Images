{
  "nbformat": 4,
  "nbformat_minor": 0,
  "metadata": {
    "colab": {
      "name": "ResNet50_major_25GB.ipynb",
      "provenance": [],
      "collapsed_sections": [],
      "toc_visible": true,
      "machine_shape": "hm",
      "include_colab_link": true
    },
    "kernelspec": {
      "name": "python3",
      "display_name": "Python 3"
    },
    "accelerator": "GPU"
  },
  "cells": [
    {
      "cell_type": "markdown",
      "metadata": {
        "id": "view-in-github",
        "colab_type": "text"
      },
      "source": [
        "<a href=\"https://colab.research.google.com/github/Nitin-Dwivedi-7/COVID_19-Test-Prediction-Using-CT-scan-Images/blob/main/ResNet50_major_25GB.ipynb\" target=\"_parent\"><img src=\"https://colab.research.google.com/assets/colab-badge.svg\" alt=\"Open In Colab\"/></a>"
      ]
    },
    {
      "cell_type": "markdown",
      "metadata": {
        "id": "4cbgwZWWfWpp"
      },
      "source": [
        "# New Section"
      ]
    },
    {
      "cell_type": "code",
      "metadata": {
        "id": "tAb77yZ9fzMG",
        "outputId": "105f2de7-7a63-4aa2-8447-5f59cbb3ebe1",
        "colab": {
          "base_uri": "https://localhost:8080/"
        }
      },
      "source": [
        "from google.colab import drive\n",
        "drive.mount('/content/drive')"
      ],
      "execution_count": null,
      "outputs": [
        {
          "output_type": "stream",
          "text": [
            "Mounted at /content/drive\n"
          ],
          "name": "stdout"
        }
      ]
    },
    {
      "cell_type": "code",
      "metadata": {
        "id": "pafL7Li0jyXW"
      },
      "source": [
        "#import Keras packages\n",
        "import tensorflow as tf\n",
        "import numpy as np\n",
        "import keras\n",
        "from keras.models import Sequential\n",
        "from keras.layers import Convolution2D\n",
        "from keras.layers import MaxPooling2D\n",
        "from keras.layers import Flatten\n",
        "from keras.layers import Dense\n",
        "from keras.layers import Dropout\n",
        "from keras.callbacks import ModelCheckpoint, EarlyStopping\n",
        "from keras.preprocessing.image import load_img\n",
        "import random\n",
        "\n",
        "import numpy as np\n",
        "from keras import applications\n",
        "from keras.layers import Input\n",
        "from keras.models import Model\n",
        "from keras import optimizers\n",
        "from keras.utils import get_file"
      ],
      "execution_count": null,
      "outputs": []
    },
    {
      "cell_type": "code",
      "metadata": {
        "id": "8JDkZP5cDs03"
      },
      "source": [
        "import pickle \n",
        "file = \"/content/drive/My Drive/data_5K.pkl\"\n",
        "f_o=open(file,\"rb\")\n",
        "data=pickle.load(f_o)\n",
        "f_o.close()\n",
        "file= \"/content/drive/My Drive/labels_5k.pkl\"\n",
        "f_o=open(file,\"rb\")\n",
        "labels=pickle.load(f_o)\n",
        "f_o.close()"
      ],
      "execution_count": null,
      "outputs": []
    },
    {
      "cell_type": "code",
      "metadata": {
        "id": "aBTLDXpaq1_8"
      },
      "source": [
        "data = np.array(data)\n",
        "labels = np.array(labels)"
      ],
      "execution_count": null,
      "outputs": []
    },
    {
      "cell_type": "code",
      "metadata": {
        "id": "DVgA2wbMq4Aa"
      },
      "source": [
        "img_width, img_height = 256, 256        # Resolution of inputs\n",
        "#train_data_dir = \"train\"           # Folder of train samples\n",
        "#validation_data_dir = \"val\" # Folder of validation samples44\n",
        "#nb_train_samples = 10000                # Number of train samples\n",
        "#nb_validation_samples = 9500            # Number of validation samples\n",
        "batch_size = 64                        # Batch size\n",
        "epochs = 20                # Maximum number of epochs"
      ],
      "execution_count": null,
      "outputs": []
    },
    {
      "cell_type": "code",
      "metadata": {
        "id": "WfQ1oymIq7jX"
      },
      "source": [
        "# Load ResNet50 \n",
        "\n",
        "model=applications.resnet50.ResNet50(weights=\"imagenet\", include_top=False, input_shape=(img_width, img_height, 3))\n",
        "\n"
      ],
      "execution_count": null,
      "outputs": []
    },
    {
      "cell_type": "code",
      "metadata": {
        "id": "AGPz5cc2rM0z"
      },
      "source": [
        "# Freeze first 15 layers\n",
        "for layer in model.layers[:45]:\n",
        "\tlayer.trainable = False\n",
        "for layer in model.layers[45:]:\n",
        "   layer.trainable = True"
      ],
      "execution_count": null,
      "outputs": []
    },
    {
      "cell_type": "code",
      "metadata": {
        "id": "0YfNx71vrQpS"
      },
      "source": [
        "x = model.output\n",
        "x = Flatten()(x)\n",
        "x = Dense(1024, activation=\"relu\")(x)\n",
        "x = Dropout(0.5)(x)\n",
        "x = Dense(1024, activation=\"relu\")(x)\n",
        "x = Dropout(0.5)(x)\n",
        "predictions = Dense(2, activation=\"softmax\")(x) # 4-way softmax classifier at the end\n"
      ],
      "execution_count": null,
      "outputs": []
    },
    {
      "cell_type": "code",
      "metadata": {
        "id": "CW3A0PE0rStQ"
      },
      "source": [
        "#nb_train_samples = 2543                # Number of train samples\n",
        "#nb_validation_samples = 2261            # Number of validation samples\n",
        "\n",
        "# Initializing the CNN\n"
      ],
      "execution_count": null,
      "outputs": []
    },
    {
      "cell_type": "code",
      "metadata": {
        "id": "CJH_xFyprVF1"
      },
      "source": [
        "from keras.utils.np_utils import to_categorical   \n",
        "\n",
        "categorical_labels = to_categorical(labels, num_classes=2)\n",
        "\n",
        "\n",
        "from sklearn.model_selection import train_test_split\n",
        "\n",
        "#X_train1, X_test0, ytrain1, ytest0 = train_test_split(data, categorical_labels, test_size=0.1,\n",
        "                                                    #random_state=random.randint(0,100))\n",
        "X_train1 = data\n",
        "ytrain1 = categorical_labels\n",
        "\n",
        "for index in range(10):\n",
        "  classifier = Model(model.input,predictions)\n",
        "  classifier.compile(loss=\"categorical_crossentropy\", optimizer=optimizers.SGD(lr=1e-3, momentum=0.9), metrics=[\"accuracy\"])\n",
        "\n",
        "\n",
        "X_train, X_test1, ytrain, ytest1 = train_test_split(X_train1, ytrain1, test_size=0.1,\n",
        "                                                    random_state=random.randint(0,100))\n",
        "X_val, X_test, yval, ytest = train_test_split(X_test1, ytest1, test_size=0.5,\n",
        "                                                    random_state=random.randint(0,100))\n",
        "    \n"
      ],
      "execution_count": null,
      "outputs": []
    },
    {
      "cell_type": "code",
      "metadata": {
        "id": "IPhxrokdrZBY",
        "outputId": "1b2ca774-a50d-4e95-99ca-8ca1575c92c4",
        "colab": {
          "base_uri": "https://localhost:8080/"
        }
      },
      "source": [
        "from keras.preprocessing.image import ImageDataGenerator\n",
        "    \n",
        "train_datagen = ImageDataGenerator(\n",
        "            rescale=1./255,\n",
        "            shear_range=0.2,\n",
        "            zoom_range=0.2,\n",
        "            horizontal_flip=True)\n",
        "    \n",
        "test_datagen = ImageDataGenerator(rescale=1./255)\n",
        "    \n",
        "val_datagen = ImageDataGenerator(rescale=1./255)\n",
        "    \n",
        "training_set = train_datagen.flow(\n",
        "            X_train, ytrain,\n",
        "            batch_size=64)\n",
        "    \n",
        "val_set = val_datagen.flow(\n",
        "            X_val, yval,\n",
        "            batch_size=64)\n",
        "    \n",
        "test_set = test_datagen.flow(\n",
        "            X_test, ytest,\n",
        "            batch_size=64)\n",
        "    \n",
        "X, y = test_set.next()\n",
        "    \n",
        "classifier.fit_generator(\n",
        "            training_set,\n",
        "            steps_per_epoch=20,\n",
        "            epochs=epochs,\n",
        "            validation_data=val_set,\n",
        "            validation_steps=100)\n",
        "    \n",
        "    #w_file = 'Wilson_vgg16_model_weights_k10.h5'\n",
        "    #classifier.save_weights(w_file)\n",
        "    \n",
        "    \n",
        "    "
      ],
      "execution_count": null,
      "outputs": [
        {
          "output_type": "stream",
          "text": [
            "WARNING:tensorflow:From <ipython-input-11-8e5f3ef987a6>:32: Model.fit_generator (from tensorflow.python.keras.engine.training) is deprecated and will be removed in a future version.\n",
            "Instructions for updating:\n",
            "Please use Model.fit, which supports generators.\n",
            "Epoch 1/20\n",
            "20/20 [==============================] - ETA: 0s - loss: 1.1355 - accuracy: 0.6875WARNING:tensorflow:Your input ran out of data; interrupting training. Make sure that your dataset or generator can generate at least `steps_per_epoch * epochs` batches (in this case, 100 batches). You may need to use the repeat() function when building your dataset.\n",
            "20/20 [==============================] - 19s 956ms/step - loss: 1.1355 - accuracy: 0.6875 - val_loss: 0.8585 - val_accuracy: 0.5111\n",
            "Epoch 2/20\n",
            "20/20 [==============================] - 17s 849ms/step - loss: 0.6780 - accuracy: 0.8578\n",
            "Epoch 3/20\n",
            "20/20 [==============================] - 17s 850ms/step - loss: 0.2724 - accuracy: 0.9148\n",
            "Epoch 4/20\n",
            "20/20 [==============================] - 17s 853ms/step - loss: 0.1411 - accuracy: 0.9609\n",
            "Epoch 5/20\n",
            "20/20 [==============================] - 17s 844ms/step - loss: 0.0775 - accuracy: 0.9740\n",
            "Epoch 6/20\n",
            "20/20 [==============================] - 17s 843ms/step - loss: 0.0549 - accuracy: 0.9867\n",
            "Epoch 7/20\n",
            "20/20 [==============================] - 17s 848ms/step - loss: 0.0553 - accuracy: 0.9898\n",
            "Epoch 8/20\n",
            "20/20 [==============================] - 17s 850ms/step - loss: 0.0524 - accuracy: 0.9859\n",
            "Epoch 9/20\n",
            "20/20 [==============================] - 17s 849ms/step - loss: 0.0301 - accuracy: 0.9906\n",
            "Epoch 10/20\n",
            "20/20 [==============================] - 17s 845ms/step - loss: 0.0519 - accuracy: 0.9867\n",
            "Epoch 11/20\n",
            "20/20 [==============================] - 17s 848ms/step - loss: 0.0847 - accuracy: 0.9789\n",
            "Epoch 12/20\n",
            "20/20 [==============================] - 17s 848ms/step - loss: 0.0275 - accuracy: 0.9906\n",
            "Epoch 13/20\n",
            "20/20 [==============================] - 17s 846ms/step - loss: 0.0158 - accuracy: 0.9953\n",
            "Epoch 14/20\n",
            "20/20 [==============================] - 17s 844ms/step - loss: 0.0238 - accuracy: 0.9961\n",
            "Epoch 15/20\n",
            "20/20 [==============================] - 17s 829ms/step - loss: 0.0122 - accuracy: 0.9945\n",
            "Epoch 16/20\n",
            "20/20 [==============================] - 17s 837ms/step - loss: 0.0157 - accuracy: 0.9953\n",
            "Epoch 17/20\n",
            "20/20 [==============================] - 17s 832ms/step - loss: 0.0278 - accuracy: 0.9961\n",
            "Epoch 18/20\n",
            "20/20 [==============================] - 17s 842ms/step - loss: 0.0135 - accuracy: 0.9945\n",
            "Epoch 19/20\n",
            "20/20 [==============================] - 17s 836ms/step - loss: 0.0150 - accuracy: 0.9945\n",
            "Epoch 20/20\n",
            "20/20 [==============================] - 17s 837ms/step - loss: 0.0066 - accuracy: 0.9969\n"
          ],
          "name": "stdout"
        },
        {
          "output_type": "execute_result",
          "data": {
            "text/plain": [
              "<tensorflow.python.keras.callbacks.History at 0x7fa207624860>"
            ]
          },
          "metadata": {
            "tags": []
          },
          "execution_count": 11
        }
      ]
    },
    {
      "cell_type": "code",
      "metadata": {
        "id": "tAfTyf7YzGCZ",
        "outputId": "1819a735-af7e-4303-822a-a3f20567616b",
        "colab": {
          "base_uri": "https://localhost:8080/"
        }
      },
      "source": [
        "arr = classifier.evaluate(X,y)"
      ],
      "execution_count": null,
      "outputs": [
        {
          "output_type": "stream",
          "text": [
            "2/2 [==============================] - ETA: 0s - loss: 0.2191 - accuracy: 0.9062WARNING:tensorflow:Callbacks method `on_test_batch_end` is slow compared to the batch time (batch time: 0.0115s vs `on_test_batch_end` time: 0.0616s). Check your callbacks.\n",
            "2/2 [==============================] - 0s 42ms/step - loss: 0.2191 - accuracy: 0.9062\n"
          ],
          "name": "stdout"
        }
      ]
    },
    {
      "cell_type": "code",
      "metadata": {
        "id": "CfNSz9h2zIkT",
        "outputId": "3fe98bf0-3366-45bd-e3f7-b9ceba269bca",
        "colab": {
          "base_uri": "https://localhost:8080/"
        }
      },
      "source": [
        "print(arr)"
      ],
      "execution_count": null,
      "outputs": [
        {
          "output_type": "stream",
          "text": [
            "[0.21905159950256348, 0.90625]\n"
          ],
          "name": "stdout"
        }
      ]
    },
    {
      "cell_type": "markdown",
      "metadata": {
        "id": "r_bpNxra6l8W"
      },
      "source": [
        ""
      ]
    },
    {
      "cell_type": "code",
      "metadata": {
        "id": "v6kxGURXrcDw",
        "outputId": "793fce34-20ea-40c6-a765-4280c6827749",
        "colab": {
          "base_uri": "https://localhost:8080/"
        }
      },
      "source": [
        "\n",
        "\n",
        "arr = classifier.predict(X)\n",
        "arr = np.argmax(arr, axis=1)\n",
        "\n",
        "print(arr)\n",
        "print(y)\n"
      ],
      "execution_count": null,
      "outputs": [
        {
          "output_type": "stream",
          "text": [
            "[0 0 1 0 0 1 0 1 0 0 1 0 1 1 0 0 0 0 1 1 1 1 1 1 1 0 1 0 0 0 0 0 1 0 0 1 1\n",
            " 1 0 1 0 1 1 0 0 0 0 0 0 0 1 1 0 1 0 1 1 1 0 1 1 0 1 1]\n",
            "[[1. 0.]\n",
            " [1. 0.]\n",
            " [0. 1.]\n",
            " [0. 1.]\n",
            " [1. 0.]\n",
            " [0. 1.]\n",
            " [0. 1.]\n",
            " [0. 1.]\n",
            " [1. 0.]\n",
            " [1. 0.]\n",
            " [0. 1.]\n",
            " [1. 0.]\n",
            " [0. 1.]\n",
            " [0. 1.]\n",
            " [1. 0.]\n",
            " [0. 1.]\n",
            " [1. 0.]\n",
            " [1. 0.]\n",
            " [0. 1.]\n",
            " [0. 1.]\n",
            " [0. 1.]\n",
            " [0. 1.]\n",
            " [0. 1.]\n",
            " [0. 1.]\n",
            " [0. 1.]\n",
            " [0. 1.]\n",
            " [0. 1.]\n",
            " [1. 0.]\n",
            " [1. 0.]\n",
            " [1. 0.]\n",
            " [1. 0.]\n",
            " [1. 0.]\n",
            " [0. 1.]\n",
            " [0. 1.]\n",
            " [1. 0.]\n",
            " [0. 1.]\n",
            " [0. 1.]\n",
            " [0. 1.]\n",
            " [1. 0.]\n",
            " [0. 1.]\n",
            " [1. 0.]\n",
            " [0. 1.]\n",
            " [0. 1.]\n",
            " [1. 0.]\n",
            " [1. 0.]\n",
            " [1. 0.]\n",
            " [1. 0.]\n",
            " [1. 0.]\n",
            " [1. 0.]\n",
            " [1. 0.]\n",
            " [0. 1.]\n",
            " [0. 1.]\n",
            " [1. 0.]\n",
            " [0. 1.]\n",
            " [1. 0.]\n",
            " [0. 1.]\n",
            " [0. 1.]\n",
            " [0. 1.]\n",
            " [0. 1.]\n",
            " [0. 1.]\n",
            " [0. 1.]\n",
            " [1. 0.]\n",
            " [0. 1.]\n",
            " [0. 1.]]\n"
          ],
          "name": "stdout"
        }
      ]
    },
    {
      "cell_type": "code",
      "metadata": {
        "id": "eG860e3Fy7j8"
      },
      "source": [
        "#print(X.shape)"
      ],
      "execution_count": null,
      "outputs": []
    },
    {
      "cell_type": "code",
      "metadata": {
        "id": "tiNd_JHRejJP"
      },
      "source": [
        "#print(X[::-1])"
      ],
      "execution_count": null,
      "outputs": []
    },
    {
      "cell_type": "code",
      "metadata": {
        "id": "IAWKasmci6MX"
      },
      "source": [
        "    #array = np.reshape(X,(64,256,256,3)) \n"
      ],
      "execution_count": null,
      "outputs": []
    },
    {
      "cell_type": "code",
      "metadata": {
        "id": "McqTL_mffwEy",
        "outputId": "59d9ed82-9f77-4bf9-ac58-04dc20ac960e",
        "colab": {
          "base_uri": "https://localhost:8080/",
          "height": 36
        }
      },
      "source": [
        "#from PIL import Image\n",
        "\"\"\"import numpy as np\n",
        "\n",
        "img = Image.fromarray(array, 'RGB')\n",
        "img.save('test.png')\n",
        "img.show()\"\"\""
      ],
      "execution_count": null,
      "outputs": [
        {
          "output_type": "execute_result",
          "data": {
            "application/vnd.google.colaboratory.intrinsic+json": {
              "type": "string"
            },
            "text/plain": [
              "\"import numpy as np\\n\\nimg = Image.fromarray(array, 'RGB')\\nimg.save('test.png')\\nimg.show()\""
            ]
          },
          "metadata": {
            "tags": []
          },
          "execution_count": 18
        }
      ]
    },
    {
      "cell_type": "code",
      "metadata": {
        "id": "vXZUL1agiSGg",
        "outputId": "4e3f341d-8626-45b5-805d-f4ba3e579ad5",
        "colab": {
          "base_uri": "https://localhost:8080/"
        }
      },
      "source": [
        "\"\"\"x=[]\n",
        "\n",
        "image1=load_img(\"/content/real_CT3_A.png\",  \n",
        "    target_size= (256,256))\n",
        "image1=np.array(image1)\n",
        "\n",
        "x.append(image1)\n",
        "x = np.array(x)\n",
        "arr = classifier.predict(x)\n",
        "#print(arr)\"\"\""
      ],
      "execution_count": null,
      "outputs": [
        {
          "output_type": "stream",
          "text": [
            "[[1.6399764e-16 1.0000000e+00]]\n"
          ],
          "name": "stdout"
        }
      ]
    },
    {
      "cell_type": "code",
      "metadata": {
        "id": "wzcRcm_NADWx",
        "outputId": "5c7a1ffc-66de-4942-b0b4-e9c8753dd621",
        "colab": {
          "base_uri": "https://localhost:8080/"
        }
      },
      "source": [
        "#x.shape"
      ],
      "execution_count": null,
      "outputs": [
        {
          "output_type": "execute_result",
          "data": {
            "text/plain": [
              "(1, 256, 256, 3)"
            ]
          },
          "metadata": {
            "tags": []
          },
          "execution_count": 42
        }
      ]
    },
    {
      "cell_type": "code",
      "metadata": {
        "id": "-LQTbrT1AkaD"
      },
      "source": [
        "#array = np.reshape(x,(256,256,3)) "
      ],
      "execution_count": null,
      "outputs": []
    },
    {
      "cell_type": "code",
      "metadata": {
        "id": "sFkWNCeVCsNG"
      },
      "source": [
        ""
      ],
      "execution_count": null,
      "outputs": []
    },
    {
      "cell_type": "code",
      "metadata": {
        "id": "VmYtN1KLAUo-"
      },
      "source": [
        "\"\"\"from PIL import Image\n",
        "import numpy as np\n",
        "\n",
        "img = Image.fromarray(array, 'RGB')\n",
        "img.save('tes111100000t.png')\n",
        "img.show()\n",
        "\"\"\""
      ],
      "execution_count": null,
      "outputs": []
    },
    {
      "cell_type": "code",
      "metadata": {
        "id": "bN8RxHrJAgI-",
        "outputId": "25cac263-e8e8-4ba4-800f-f4ec5bc251cb",
        "colab": {
          "base_uri": "https://localhost:8080/"
        }
      },
      "source": [
        "X[0].shape"
      ],
      "execution_count": null,
      "outputs": [
        {
          "output_type": "execute_result",
          "data": {
            "text/plain": [
              "(256, 256, 3)"
            ]
          },
          "metadata": {
            "tags": []
          },
          "execution_count": 48
        }
      ]
    },
    {
      "cell_type": "code",
      "metadata": {
        "id": "hGjDMFqWDUzf",
        "outputId": "36f319ac-f043-4db8-fdfe-babbf0def758",
        "colab": {
          "base_uri": "https://localhost:8080/"
        }
      },
      "source": [
        "X[0]"
      ],
      "execution_count": null,
      "outputs": [
        {
          "output_type": "execute_result",
          "data": {
            "text/plain": [
              "array([[[0.1764706, 0.1764706, 0.1764706],\n",
              "        [0.1764706, 0.1764706, 0.1764706],\n",
              "        [0.1764706, 0.1764706, 0.1764706],\n",
              "        ...,\n",
              "        [0.1764706, 0.1764706, 0.1764706],\n",
              "        [0.1764706, 0.1764706, 0.1764706],\n",
              "        [0.1764706, 0.1764706, 0.1764706]],\n",
              "\n",
              "       [[0.1764706, 0.1764706, 0.1764706],\n",
              "        [0.1764706, 0.1764706, 0.1764706],\n",
              "        [0.1764706, 0.1764706, 0.1764706],\n",
              "        ...,\n",
              "        [0.1764706, 0.1764706, 0.1764706],\n",
              "        [0.1764706, 0.1764706, 0.1764706],\n",
              "        [0.1764706, 0.1764706, 0.1764706]],\n",
              "\n",
              "       [[0.1764706, 0.1764706, 0.1764706],\n",
              "        [0.1764706, 0.1764706, 0.1764706],\n",
              "        [0.1764706, 0.1764706, 0.1764706],\n",
              "        ...,\n",
              "        [0.1764706, 0.1764706, 0.1764706],\n",
              "        [0.1764706, 0.1764706, 0.1764706],\n",
              "        [0.1764706, 0.1764706, 0.1764706]],\n",
              "\n",
              "       ...,\n",
              "\n",
              "       [[0.1764706, 0.1764706, 0.1764706],\n",
              "        [0.1764706, 0.1764706, 0.1764706],\n",
              "        [0.1764706, 0.1764706, 0.1764706],\n",
              "        ...,\n",
              "        [0.1764706, 0.1764706, 0.1764706],\n",
              "        [0.1764706, 0.1764706, 0.1764706],\n",
              "        [0.1764706, 0.1764706, 0.1764706]],\n",
              "\n",
              "       [[0.1764706, 0.1764706, 0.1764706],\n",
              "        [0.1764706, 0.1764706, 0.1764706],\n",
              "        [0.1764706, 0.1764706, 0.1764706],\n",
              "        ...,\n",
              "        [0.1764706, 0.1764706, 0.1764706],\n",
              "        [0.1764706, 0.1764706, 0.1764706],\n",
              "        [0.1764706, 0.1764706, 0.1764706]],\n",
              "\n",
              "       [[0.1764706, 0.1764706, 0.1764706],\n",
              "        [0.1764706, 0.1764706, 0.1764706],\n",
              "        [0.1764706, 0.1764706, 0.1764706],\n",
              "        ...,\n",
              "        [0.1764706, 0.1764706, 0.1764706],\n",
              "        [0.1764706, 0.1764706, 0.1764706],\n",
              "        [0.1764706, 0.1764706, 0.1764706]]], dtype=float32)"
            ]
          },
          "metadata": {
            "tags": []
          },
          "execution_count": 49
        }
      ]
    },
    {
      "cell_type": "code",
      "metadata": {
        "id": "6UBS-25sDa1I"
      },
      "source": [
        "x=[]\n",
        "image1=load_img(\"/content/real_CT3_A.png\",  \n",
        "    target_size= (256,256))\n",
        "image1=np.array(image1)\n",
        "\n",
        "x.append(image1)\n",
        "x = np.array(x)"
      ],
      "execution_count": null,
      "outputs": []
    },
    {
      "cell_type": "code",
      "metadata": {
        "id": "C5SuV7-9Di9l",
        "outputId": "7ae359c4-e35a-4fd2-a614-feb9fa3af137",
        "colab": {
          "base_uri": "https://localhost:8080/"
        }
      },
      "source": [
        "x.shape"
      ],
      "execution_count": null,
      "outputs": [
        {
          "output_type": "execute_result",
          "data": {
            "text/plain": [
              "(1, 256, 256, 3)"
            ]
          },
          "metadata": {
            "tags": []
          },
          "execution_count": 52
        }
      ]
    },
    {
      "cell_type": "code",
      "metadata": {
        "id": "I6qqW9CjDnce",
        "outputId": "664ea368-feb6-4c84-b55d-035c99b8c4ef",
        "colab": {
          "base_uri": "https://localhost:8080/"
        }
      },
      "source": [
        "x[0]"
      ],
      "execution_count": null,
      "outputs": [
        {
          "output_type": "execute_result",
          "data": {
            "text/plain": [
              "array([[[ 2,  2,  2],\n",
              "        [ 5,  5,  5],\n",
              "        [ 4,  4,  4],\n",
              "        ...,\n",
              "        [ 4,  4,  4],\n",
              "        [ 6,  6,  6],\n",
              "        [10, 10, 10]],\n",
              "\n",
              "       [[ 1,  1,  1],\n",
              "        [ 4,  4,  4],\n",
              "        [ 2,  2,  2],\n",
              "        ...,\n",
              "        [ 4,  4,  4],\n",
              "        [ 5,  5,  5],\n",
              "        [ 6,  6,  6]],\n",
              "\n",
              "       [[ 0,  0,  0],\n",
              "        [ 3,  3,  3],\n",
              "        [ 2,  2,  2],\n",
              "        ...,\n",
              "        [ 4,  4,  4],\n",
              "        [ 3,  3,  3],\n",
              "        [ 4,  4,  4]],\n",
              "\n",
              "       ...,\n",
              "\n",
              "       [[14, 14, 14],\n",
              "        [15, 15, 15],\n",
              "        [16, 16, 16],\n",
              "        ...,\n",
              "        [18, 18, 18],\n",
              "        [20, 20, 20],\n",
              "        [25, 25, 25]],\n",
              "\n",
              "       [[14, 14, 14],\n",
              "        [18, 18, 18],\n",
              "        [18, 18, 18],\n",
              "        ...,\n",
              "        [17, 17, 17],\n",
              "        [21, 21, 21],\n",
              "        [26, 26, 26]],\n",
              "\n",
              "       [[17, 17, 17],\n",
              "        [22, 22, 22],\n",
              "        [21, 21, 21],\n",
              "        ...,\n",
              "        [15, 15, 15],\n",
              "        [19, 19, 19],\n",
              "        [26, 26, 26]]], dtype=uint8)"
            ]
          },
          "metadata": {
            "tags": []
          },
          "execution_count": 53
        }
      ]
    },
    {
      "cell_type": "code",
      "metadata": {
        "id": "kHm6y9bPDpIR",
        "outputId": "eea574b7-4438-4cea-807d-f3427f9017f9",
        "colab": {
          "base_uri": "https://localhost:8080/",
          "height": 168
        }
      },
      "source": [
        "x.rescale=1./255"
      ],
      "execution_count": null,
      "outputs": [
        {
          "output_type": "error",
          "ename": "AttributeError",
          "evalue": "ignored",
          "traceback": [
            "\u001b[0;31m---------------------------------------------------------------------------\u001b[0m",
            "\u001b[0;31mAttributeError\u001b[0m                            Traceback (most recent call last)",
            "\u001b[0;32m<ipython-input-58-981494901189>\u001b[0m in \u001b[0;36m<module>\u001b[0;34m()\u001b[0m\n\u001b[0;32m----> 1\u001b[0;31m \u001b[0mx\u001b[0m\u001b[0;34m.\u001b[0m\u001b[0mrescale\u001b[0m\u001b[0;34m=\u001b[0m\u001b[0;36m1.\u001b[0m\u001b[0;34m/\u001b[0m\u001b[0;36m255\u001b[0m\u001b[0;34m\u001b[0m\u001b[0;34m\u001b[0m\u001b[0m\n\u001b[0m",
            "\u001b[0;31mAttributeError\u001b[0m: 'numpy.ndarray' object has no attribute 'rescale'"
          ]
        }
      ]
    },
    {
      "cell_type": "code",
      "metadata": {
        "id": "I9-mSlAnD5Jp",
        "outputId": "b1e1170f-0bde-4a4b-da43-a27b392a62d8",
        "colab": {
          "base_uri": "https://localhost:8080/",
          "height": 168
        }
      },
      "source": [
        ""
      ],
      "execution_count": null,
      "outputs": [
        {
          "output_type": "error",
          "ename": "AttributeError",
          "evalue": "ignored",
          "traceback": [
            "\u001b[0;31m---------------------------------------------------------------------------\u001b[0m",
            "\u001b[0;31mAttributeError\u001b[0m                            Traceback (most recent call last)",
            "\u001b[0;32m<ipython-input-57-f38958fcede0>\u001b[0m in \u001b[0;36m<module>\u001b[0;34m()\u001b[0m\n\u001b[0;32m----> 1\u001b[0;31m \u001b[0mtraining_set\u001b[0m\u001b[0;34m.\u001b[0m\u001b[0mshape\u001b[0m\u001b[0;34m\u001b[0m\u001b[0;34m\u001b[0m\u001b[0m\n\u001b[0m",
            "\u001b[0;31mAttributeError\u001b[0m: 'NumpyArrayIterator' object has no attribute 'shape'"
          ]
        }
      ]
    },
    {
      "cell_type": "code",
      "metadata": {
        "id": "D-Y65KcRD6ue"
      },
      "source": [
        ""
      ],
      "execution_count": null,
      "outputs": []
    }
  ]
}
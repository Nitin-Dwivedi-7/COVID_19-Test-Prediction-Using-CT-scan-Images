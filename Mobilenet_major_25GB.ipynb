{
  "nbformat": 4,
  "nbformat_minor": 0,
  "metadata": {
    "colab": {
      "name": "Mobilenet_major_25GB.ipynb",
      "provenance": [],
      "collapsed_sections": [],
      "machine_shape": "hm",
      "include_colab_link": true
    },
    "kernelspec": {
      "name": "python3",
      "display_name": "Python 3"
    },
    "accelerator": "GPU"
  },
  "cells": [
    {
      "cell_type": "markdown",
      "metadata": {
        "id": "view-in-github",
        "colab_type": "text"
      },
      "source": [
        "<a href=\"https://colab.research.google.com/github/Nitin-Dwivedi-7/COVID_19-Test-Prediction-Using-CT-scan-Images/blob/main/Mobilenet_major_25GB.ipynb\" target=\"_parent\"><img src=\"https://colab.research.google.com/assets/colab-badge.svg\" alt=\"Open In Colab\"/></a>"
      ]
    },
    {
      "cell_type": "markdown",
      "metadata": {
        "id": "4cbgwZWWfWpp"
      },
      "source": [
        "# New Section"
      ]
    },
    {
      "cell_type": "code",
      "metadata": {
        "id": "tAb77yZ9fzMG",
        "outputId": "bc72847d-b002-4eeb-9f48-f6bd880bb3e9",
        "colab": {
          "base_uri": "https://localhost:8080/"
        }
      },
      "source": [
        "from google.colab import drive\n",
        "drive.mount('/content/drive')"
      ],
      "execution_count": null,
      "outputs": [
        {
          "output_type": "stream",
          "text": [
            "Mounted at /content/drive\n"
          ],
          "name": "stdout"
        }
      ]
    },
    {
      "cell_type": "code",
      "metadata": {
        "id": "pafL7Li0jyXW"
      },
      "source": [
        "#import Keras packages\n",
        "import tensorflow as tf\n",
        "import numpy as np\n",
        "import keras\n",
        "from keras.models import Sequential\n",
        "from keras.layers import Convolution2D\n",
        "from keras.layers import MaxPooling2D\n",
        "from keras.layers import Flatten\n",
        "from keras.layers import Dense\n",
        "from keras.layers import Dropout\n",
        "from keras.callbacks import ModelCheckpoint, EarlyStopping\n",
        "from keras.preprocessing.image import load_img\n",
        "import random\n",
        "\n",
        "import numpy as np\n",
        "from keras import applications\n",
        "from keras.layers import Input\n",
        "from keras.models import Model\n",
        "from keras import optimizers\n",
        "from keras.utils import get_file"
      ],
      "execution_count": null,
      "outputs": []
    },
    {
      "cell_type": "code",
      "metadata": {
        "id": "8JDkZP5cDs03"
      },
      "source": [
        "import pickle \n",
        "file = \"/content/drive/My Drive/data_5K.pkl\"\n",
        "f_o=open(file,\"rb\")\n",
        "data=pickle.load(f_o)\n",
        "f_o.close()\n",
        "file= \"/content/drive/My Drive/labels_5k.pkl\"\n",
        "f_o=open(file,\"rb\")\n",
        "labels=pickle.load(f_o)\n",
        "f_o.close()"
      ],
      "execution_count": null,
      "outputs": []
    },
    {
      "cell_type": "code",
      "metadata": {
        "id": "aBTLDXpaq1_8"
      },
      "source": [
        "data = np.array(data)\n",
        "labels = np.array(labels)"
      ],
      "execution_count": null,
      "outputs": []
    },
    {
      "cell_type": "code",
      "metadata": {
        "id": "DVgA2wbMq4Aa"
      },
      "source": [
        "img_width, img_height = 256, 256        # Resolution of inputs\n",
        "#train_data_dir = \"train\"           # Folder of train samples\n",
        "#validation_data_dir = \"val\" # Folder of validation samples44\n",
        "#nb_train_samples = 10000                # Number of train samples\n",
        "#nb_validation_samples = 9500            # Number of validation samples\n",
        "batch_size = 64                        # Batch size\n",
        "epochs = 20                # Maximum number of epochs"
      ],
      "execution_count": null,
      "outputs": []
    },
    {
      "cell_type": "code",
      "metadata": {
        "id": "WfQ1oymIq7jX",
        "outputId": "257d8c23-d0dc-4cd1-8377-cf600323f2f6",
        "colab": {
          "base_uri": "https://localhost:8080/"
        }
      },
      "source": [
        "# Load Mobilenet\n",
        "\n",
        "model=applications.mobilenet.MobileNet(weights=\"imagenet\", include_top=False, input_shape=(img_width, img_height, 3))\n",
        "\n"
      ],
      "execution_count": null,
      "outputs": [
        {
          "output_type": "stream",
          "text": [
            "WARNING:tensorflow:`input_shape` is undefined or non-square, or `rows` is not in [128, 160, 192, 224]. Weights for input shape (224, 224) will be loaded as the default.\n",
            "Downloading data from https://storage.googleapis.com/tensorflow/keras-applications/mobilenet/mobilenet_1_0_224_tf_no_top.h5\n",
            "17227776/17225924 [==============================] - 0s 0us/step\n"
          ],
          "name": "stdout"
        }
      ]
    },
    {
      "cell_type": "code",
      "metadata": {
        "id": "AGPz5cc2rM0z"
      },
      "source": [
        "# Freeze first 15 layers\n",
        "for layer in model.layers[:45]:\n",
        "\tlayer.trainable = False\n",
        "for layer in model.layers[45:]:\n",
        "   layer.trainable = True"
      ],
      "execution_count": null,
      "outputs": []
    },
    {
      "cell_type": "code",
      "metadata": {
        "id": "0YfNx71vrQpS"
      },
      "source": [
        "x = model.output\n",
        "x = Flatten()(x)\n",
        "x = Dense(1024, activation=\"relu\")(x)\n",
        "x = Dropout(0.5)(x)\n",
        "x = Dense(1024, activation=\"relu\")(x)\n",
        "x = Dropout(0.5)(x)\n",
        "predictions = Dense(2, activation=\"softmax\")(x) # 4-way softmax classifier at the end\n"
      ],
      "execution_count": null,
      "outputs": []
    },
    {
      "cell_type": "code",
      "metadata": {
        "id": "CW3A0PE0rStQ"
      },
      "source": [
        "#nb_train_samples = 2543                # Number of train samples\n",
        "#nb_validation_samples = 2261            # Number of validation samples\n",
        "\n",
        "# Initializing the CNN\n"
      ],
      "execution_count": null,
      "outputs": []
    },
    {
      "cell_type": "code",
      "metadata": {
        "id": "CJH_xFyprVF1"
      },
      "source": [
        "from keras.utils.np_utils import to_categorical   \n",
        "\n",
        "categorical_labels = to_categorical(labels, num_classes=2)\n",
        "\n",
        "\n",
        "from sklearn.model_selection import train_test_split\n",
        "\n",
        "#X_train1, X_test0, ytrain1, ytest0 = train_test_split(data, categorical_labels, test_size=0.1,\n",
        "                                                    #random_state=random.randint(0,100))\n",
        "X_train1 = data\n",
        "ytrain1 = categorical_labels\n",
        "\n",
        "for index in range(10):\n",
        "  classifier = Model(model.input,predictions)\n",
        "  classifier.compile(loss=\"categorical_crossentropy\", optimizer=optimizers.SGD(lr=1e-3, momentum=0.9), metrics=[\"accuracy\"])\n",
        "\n",
        "\n",
        "X_train, X_test1, ytrain, ytest1 = train_test_split(X_train1, ytrain1, test_size=0.1,\n",
        "                                                    random_state=random.randint(0,100))\n",
        "X_val, X_test, yval, ytest = train_test_split(X_test1, ytest1, test_size=0.5,\n",
        "                                                    random_state=random.randint(0,100))\n",
        "    \n"
      ],
      "execution_count": null,
      "outputs": []
    },
    {
      "cell_type": "code",
      "metadata": {
        "id": "IPhxrokdrZBY",
        "outputId": "41a5eb0e-8366-4002-f5a1-8e120592323e",
        "colab": {
          "base_uri": "https://localhost:8080/"
        }
      },
      "source": [
        "from keras.preprocessing.image import ImageDataGenerator\n",
        "    \n",
        "train_datagen = ImageDataGenerator(\n",
        "            rescale=1./255,\n",
        "            shear_range=0.2,\n",
        "            zoom_range=0.2,\n",
        "            horizontal_flip=True)\n",
        "    \n",
        "test_datagen = ImageDataGenerator(rescale=1./255)\n",
        "    \n",
        "val_datagen = ImageDataGenerator(rescale=1./255)\n",
        "    \n",
        "training_set = train_datagen.flow(\n",
        "            X_train, ytrain,\n",
        "            batch_size=64)\n",
        "    \n",
        "val_set = val_datagen.flow(\n",
        "            X_val, yval,\n",
        "            batch_size=64)\n",
        "    \n",
        "test_set = test_datagen.flow(\n",
        "            X_test, ytest,\n",
        "            batch_size=64)\n",
        "    \n",
        "X, y = test_set.next()\n",
        "    \n",
        "classifier.fit_generator(\n",
        "            training_set,\n",
        "            steps_per_epoch=20,\n",
        "            epochs=epochs,\n",
        "            validation_data=val_set,\n",
        "            validation_steps=100)\n",
        "    \n",
        "    #w_file = 'Wilson_vgg16_model_weights_k10.h5'\n",
        "    #classifier.save_weights(w_file)\n",
        "    \n",
        "    \n",
        "    "
      ],
      "execution_count": null,
      "outputs": [
        {
          "output_type": "stream",
          "text": [
            "WARNING:tensorflow:From <ipython-input-10-8e5f3ef987a6>:32: Model.fit_generator (from tensorflow.python.keras.engine.training) is deprecated and will be removed in a future version.\n",
            "Instructions for updating:\n",
            "Please use Model.fit, which supports generators.\n",
            "Epoch 1/20\n",
            "20/20 [==============================] - ETA: 0s - loss: 0.7508 - accuracy: 0.8391WARNING:tensorflow:Your input ran out of data; interrupting training. Make sure that your dataset or generator can generate at least `steps_per_epoch * epochs` batches (in this case, 100 batches). You may need to use the repeat() function when building your dataset.\n",
            "20/20 [==============================] - 16s 823ms/step - loss: 0.7508 - accuracy: 0.8391 - val_loss: 0.8033 - val_accuracy: 0.8129\n",
            "Epoch 2/20\n",
            "20/20 [==============================] - 16s 797ms/step - loss: 0.1394 - accuracy: 0.9688\n",
            "Epoch 3/20\n",
            "20/20 [==============================] - 16s 792ms/step - loss: 0.1486 - accuracy: 0.9703\n",
            "Epoch 4/20\n",
            "20/20 [==============================] - 16s 799ms/step - loss: 0.1284 - accuracy: 0.9758\n",
            "Epoch 5/20\n",
            "20/20 [==============================] - 16s 785ms/step - loss: 0.1066 - accuracy: 0.9787\n",
            "Epoch 6/20\n",
            "20/20 [==============================] - 16s 791ms/step - loss: 0.0460 - accuracy: 0.9874\n",
            "Epoch 7/20\n",
            "20/20 [==============================] - 16s 790ms/step - loss: 0.0363 - accuracy: 0.9891\n",
            "Epoch 8/20\n",
            "20/20 [==============================] - 16s 789ms/step - loss: 0.0429 - accuracy: 0.9882\n",
            "Epoch 9/20\n",
            "20/20 [==============================] - 16s 805ms/step - loss: 0.0320 - accuracy: 0.9906\n",
            "Epoch 10/20\n",
            "20/20 [==============================] - 16s 792ms/step - loss: 0.0316 - accuracy: 0.9945\n",
            "Epoch 11/20\n",
            "20/20 [==============================] - 16s 793ms/step - loss: 0.0275 - accuracy: 0.9914\n",
            "Epoch 12/20\n",
            "20/20 [==============================] - 16s 802ms/step - loss: 0.0155 - accuracy: 0.9945\n",
            "Epoch 13/20\n",
            "20/20 [==============================] - 16s 807ms/step - loss: 0.0134 - accuracy: 0.9969\n",
            "Epoch 14/20\n",
            "20/20 [==============================] - 16s 803ms/step - loss: 0.0164 - accuracy: 0.9945\n",
            "Epoch 15/20\n",
            "20/20 [==============================] - 16s 817ms/step - loss: 0.0152 - accuracy: 0.9953\n",
            "Epoch 16/20\n",
            "20/20 [==============================] - 16s 803ms/step - loss: 0.0322 - accuracy: 0.9930\n",
            "Epoch 17/20\n",
            "20/20 [==============================] - 16s 810ms/step - loss: 0.0153 - accuracy: 0.9977\n",
            "Epoch 18/20\n",
            "20/20 [==============================] - 16s 804ms/step - loss: 0.0186 - accuracy: 0.9953\n",
            "Epoch 19/20\n",
            "20/20 [==============================] - 16s 794ms/step - loss: 0.0101 - accuracy: 0.9961\n",
            "Epoch 20/20\n",
            "20/20 [==============================] - 16s 794ms/step - loss: 0.0343 - accuracy: 0.9930\n"
          ],
          "name": "stdout"
        },
        {
          "output_type": "execute_result",
          "data": {
            "text/plain": [
              "<tensorflow.python.keras.callbacks.History at 0x7faf09eed048>"
            ]
          },
          "metadata": {
            "tags": []
          },
          "execution_count": 10
        }
      ]
    },
    {
      "cell_type": "code",
      "metadata": {
        "id": "tAfTyf7YzGCZ",
        "outputId": "e3913f8a-89c7-47c6-e7b2-5caf286a495d",
        "colab": {
          "base_uri": "https://localhost:8080/"
        }
      },
      "source": [
        "arr = classifier.evaluate(X,y)"
      ],
      "execution_count": null,
      "outputs": [
        {
          "output_type": "stream",
          "text": [
            "1/2 [==============>...............] - ETA: 0s - loss: 8.8888e-05 - accuracy: 1.0000WARNING:tensorflow:Callbacks method `on_test_batch_end` is slow compared to the batch time (batch time: 0.0092s vs `on_test_batch_end` time: 0.0243s). Check your callbacks.\n",
            "2/2 [==============================] - 0s 20ms/step - loss: 1.0088e-04 - accuracy: 1.0000\n"
          ],
          "name": "stdout"
        }
      ]
    },
    {
      "cell_type": "code",
      "metadata": {
        "id": "CfNSz9h2zIkT",
        "outputId": "afd2bad3-0837-42e9-fae8-0745b830dbb2",
        "colab": {
          "base_uri": "https://localhost:8080/"
        }
      },
      "source": [
        "print(arr)"
      ],
      "execution_count": null,
      "outputs": [
        {
          "output_type": "stream",
          "text": [
            "[0.00010087653936352581, 1.0]\n"
          ],
          "name": "stdout"
        }
      ]
    },
    {
      "cell_type": "markdown",
      "metadata": {
        "id": "r_bpNxra6l8W"
      },
      "source": [
        ""
      ]
    },
    {
      "cell_type": "code",
      "metadata": {
        "id": "v6kxGURXrcDw",
        "outputId": "82086bce-bfdb-43fb-f843-49fcfdfe57a2",
        "colab": {
          "base_uri": "https://localhost:8080/"
        }
      },
      "source": [
        "\n",
        "\n",
        "arr = classifier.predict(X)\n",
        "arr = np.argmax(arr, axis=1)\n",
        "\n",
        "print(arr)\n",
        "print(y)\n"
      ],
      "execution_count": null,
      "outputs": [
        {
          "output_type": "stream",
          "text": [
            "[1 1 1 0 0 1 1 0 0 0 1 1 1 0 1 0 1 1 1 0 0 0 0 0 0 0 1 0 0 1 0 1 1 0 0 1 1\n",
            " 1 0 0 0 0 1 1 0 1 1 1 1 1 1 1 1 0 1 0 1 1 0 1 1 0 1 0]\n",
            "[[0. 1.]\n",
            " [0. 1.]\n",
            " [0. 1.]\n",
            " [1. 0.]\n",
            " [1. 0.]\n",
            " [0. 1.]\n",
            " [0. 1.]\n",
            " [1. 0.]\n",
            " [1. 0.]\n",
            " [1. 0.]\n",
            " [0. 1.]\n",
            " [0. 1.]\n",
            " [0. 1.]\n",
            " [1. 0.]\n",
            " [0. 1.]\n",
            " [1. 0.]\n",
            " [0. 1.]\n",
            " [0. 1.]\n",
            " [0. 1.]\n",
            " [1. 0.]\n",
            " [1. 0.]\n",
            " [1. 0.]\n",
            " [1. 0.]\n",
            " [1. 0.]\n",
            " [1. 0.]\n",
            " [1. 0.]\n",
            " [0. 1.]\n",
            " [1. 0.]\n",
            " [1. 0.]\n",
            " [0. 1.]\n",
            " [1. 0.]\n",
            " [0. 1.]\n",
            " [0. 1.]\n",
            " [1. 0.]\n",
            " [1. 0.]\n",
            " [0. 1.]\n",
            " [0. 1.]\n",
            " [0. 1.]\n",
            " [1. 0.]\n",
            " [1. 0.]\n",
            " [1. 0.]\n",
            " [1. 0.]\n",
            " [0. 1.]\n",
            " [0. 1.]\n",
            " [1. 0.]\n",
            " [0. 1.]\n",
            " [0. 1.]\n",
            " [0. 1.]\n",
            " [0. 1.]\n",
            " [0. 1.]\n",
            " [0. 1.]\n",
            " [0. 1.]\n",
            " [0. 1.]\n",
            " [1. 0.]\n",
            " [0. 1.]\n",
            " [1. 0.]\n",
            " [0. 1.]\n",
            " [0. 1.]\n",
            " [1. 0.]\n",
            " [0. 1.]\n",
            " [0. 1.]\n",
            " [1. 0.]\n",
            " [0. 1.]\n",
            " [1. 0.]]\n"
          ],
          "name": "stdout"
        }
      ]
    },
    {
      "cell_type": "code",
      "metadata": {
        "id": "eG860e3Fy7j8",
        "outputId": "4c5873e3-edba-480f-e0d3-c81e1c9b0745",
        "colab": {
          "base_uri": "https://localhost:8080/"
        }
      },
      "source": [
        "print(X.shape)"
      ],
      "execution_count": null,
      "outputs": [
        {
          "output_type": "stream",
          "text": [
            "(64, 256, 256, 3)\n"
          ],
          "name": "stdout"
        }
      ]
    },
    {
      "cell_type": "code",
      "metadata": {
        "id": "tiNd_JHRejJP",
        "outputId": "f0e4f995-5dba-453d-957a-a7c32a798280",
        "colab": {
          "base_uri": "https://localhost:8080/"
        }
      },
      "source": [
        "print(X[::-1])"
      ],
      "execution_count": null,
      "outputs": [
        {
          "output_type": "stream",
          "text": [
            "[[[[0.1764706  0.1764706  0.1764706 ]\n",
            "   [0.21960786 0.21960786 0.21960786]\n",
            "   [0.1764706  0.1764706  0.1764706 ]\n",
            "   ...\n",
            "   [0.18823531 0.18823531 0.18823531]\n",
            "   [0.21176472 0.21176472 0.21176472]\n",
            "   [0.227451   0.227451   0.227451  ]]\n",
            "\n",
            "  [[0.19607845 0.19607845 0.19607845]\n",
            "   [0.1764706  0.1764706  0.1764706 ]\n",
            "   [0.24705884 0.24705884 0.24705884]\n",
            "   ...\n",
            "   [0.1764706  0.1764706  0.1764706 ]\n",
            "   [0.18039216 0.18039216 0.18039216]\n",
            "   [0.21176472 0.21176472 0.21176472]]\n",
            "\n",
            "  [[0.21960786 0.21960786 0.21960786]\n",
            "   [0.19607845 0.19607845 0.19607845]\n",
            "   [0.1764706  0.1764706  0.1764706 ]\n",
            "   ...\n",
            "   [0.23529413 0.23529413 0.23529413]\n",
            "   [0.20784315 0.20784315 0.20784315]\n",
            "   [0.19607845 0.19607845 0.19607845]]\n",
            "\n",
            "  ...\n",
            "\n",
            "  [[0.1764706  0.1764706  0.1764706 ]\n",
            "   [0.1764706  0.1764706  0.1764706 ]\n",
            "   [0.18431373 0.18431373 0.18431373]\n",
            "   ...\n",
            "   [0.25882354 0.25882354 0.25882354]\n",
            "   [0.18431373 0.18431373 0.18431373]\n",
            "   [0.1764706  0.1764706  0.1764706 ]]\n",
            "\n",
            "  [[0.24313727 0.24313727 0.24313727]\n",
            "   [0.25490198 0.25490198 0.25490198]\n",
            "   [0.1764706  0.1764706  0.1764706 ]\n",
            "   ...\n",
            "   [0.18431373 0.18431373 0.18431373]\n",
            "   [0.18823531 0.18823531 0.18823531]\n",
            "   [0.20784315 0.20784315 0.20784315]]\n",
            "\n",
            "  [[0.1764706  0.1764706  0.1764706 ]\n",
            "   [0.227451   0.227451   0.227451  ]\n",
            "   [0.2392157  0.2392157  0.2392157 ]\n",
            "   ...\n",
            "   [0.21568629 0.21568629 0.21568629]\n",
            "   [0.1764706  0.1764706  0.1764706 ]\n",
            "   [0.19215688 0.19215688 0.19215688]]]\n",
            "\n",
            "\n",
            " [[[0.14509805 0.14509805 0.14509805]\n",
            "   [0.14509805 0.14509805 0.14509805]\n",
            "   [0.14509805 0.14509805 0.14509805]\n",
            "   ...\n",
            "   [0.14509805 0.14509805 0.14509805]\n",
            "   [0.14509805 0.14509805 0.14509805]\n",
            "   [0.14509805 0.14509805 0.14509805]]\n",
            "\n",
            "  [[0.14509805 0.14509805 0.14509805]\n",
            "   [0.14509805 0.14509805 0.14509805]\n",
            "   [0.14509805 0.14509805 0.14509805]\n",
            "   ...\n",
            "   [0.14509805 0.14509805 0.14509805]\n",
            "   [0.14509805 0.14509805 0.14509805]\n",
            "   [0.14509805 0.14509805 0.14509805]]\n",
            "\n",
            "  [[0.14509805 0.14509805 0.14509805]\n",
            "   [0.14509805 0.14509805 0.14509805]\n",
            "   [0.14509805 0.14509805 0.14509805]\n",
            "   ...\n",
            "   [0.14509805 0.14509805 0.14509805]\n",
            "   [0.14509805 0.14509805 0.14509805]\n",
            "   [0.14509805 0.14509805 0.14509805]]\n",
            "\n",
            "  ...\n",
            "\n",
            "  [[0.14509805 0.14509805 0.14509805]\n",
            "   [0.14509805 0.14509805 0.14509805]\n",
            "   [0.14509805 0.14509805 0.14509805]\n",
            "   ...\n",
            "   [0.14509805 0.14509805 0.14509805]\n",
            "   [0.14509805 0.14509805 0.14509805]\n",
            "   [0.14509805 0.14509805 0.14509805]]\n",
            "\n",
            "  [[0.14509805 0.14509805 0.14509805]\n",
            "   [0.14509805 0.14509805 0.14509805]\n",
            "   [0.14509805 0.14509805 0.14509805]\n",
            "   ...\n",
            "   [0.14509805 0.14509805 0.14509805]\n",
            "   [0.14509805 0.14509805 0.14509805]\n",
            "   [0.14509805 0.14509805 0.14509805]]\n",
            "\n",
            "  [[0.14509805 0.14509805 0.14509805]\n",
            "   [0.14509805 0.14509805 0.14509805]\n",
            "   [0.14509805 0.14509805 0.14509805]\n",
            "   ...\n",
            "   [0.14509805 0.14509805 0.14509805]\n",
            "   [0.14509805 0.14509805 0.14509805]\n",
            "   [0.14509805 0.14509805 0.14509805]]]\n",
            "\n",
            "\n",
            " [[[0.1764706  0.1764706  0.1764706 ]\n",
            "   [0.1764706  0.1764706  0.1764706 ]\n",
            "   [0.1764706  0.1764706  0.1764706 ]\n",
            "   ...\n",
            "   [0.1764706  0.1764706  0.1764706 ]\n",
            "   [0.1764706  0.1764706  0.1764706 ]\n",
            "   [0.1764706  0.1764706  0.1764706 ]]\n",
            "\n",
            "  [[0.1764706  0.1764706  0.1764706 ]\n",
            "   [0.1764706  0.1764706  0.1764706 ]\n",
            "   [0.1764706  0.1764706  0.1764706 ]\n",
            "   ...\n",
            "   [0.1764706  0.1764706  0.1764706 ]\n",
            "   [0.1764706  0.1764706  0.1764706 ]\n",
            "   [0.1764706  0.1764706  0.1764706 ]]\n",
            "\n",
            "  [[0.1764706  0.1764706  0.1764706 ]\n",
            "   [0.1764706  0.1764706  0.1764706 ]\n",
            "   [0.1764706  0.1764706  0.1764706 ]\n",
            "   ...\n",
            "   [0.1764706  0.1764706  0.1764706 ]\n",
            "   [0.1764706  0.1764706  0.1764706 ]\n",
            "   [0.1764706  0.1764706  0.1764706 ]]\n",
            "\n",
            "  ...\n",
            "\n",
            "  [[0.1764706  0.1764706  0.1764706 ]\n",
            "   [0.1764706  0.1764706  0.1764706 ]\n",
            "   [0.1764706  0.1764706  0.1764706 ]\n",
            "   ...\n",
            "   [0.1764706  0.1764706  0.1764706 ]\n",
            "   [0.1764706  0.1764706  0.1764706 ]\n",
            "   [0.1764706  0.1764706  0.1764706 ]]\n",
            "\n",
            "  [[0.1764706  0.1764706  0.1764706 ]\n",
            "   [0.1764706  0.1764706  0.1764706 ]\n",
            "   [0.1764706  0.1764706  0.1764706 ]\n",
            "   ...\n",
            "   [0.1764706  0.1764706  0.1764706 ]\n",
            "   [0.1764706  0.1764706  0.1764706 ]\n",
            "   [0.1764706  0.1764706  0.1764706 ]]\n",
            "\n",
            "  [[0.1764706  0.1764706  0.1764706 ]\n",
            "   [0.1764706  0.1764706  0.1764706 ]\n",
            "   [0.1764706  0.1764706  0.1764706 ]\n",
            "   ...\n",
            "   [0.1764706  0.1764706  0.1764706 ]\n",
            "   [0.1764706  0.1764706  0.1764706 ]\n",
            "   [0.1764706  0.1764706  0.1764706 ]]]\n",
            "\n",
            "\n",
            " ...\n",
            "\n",
            "\n",
            " [[[0.14509805 0.14509805 0.14509805]\n",
            "   [0.14509805 0.14509805 0.14509805]\n",
            "   [0.14509805 0.14509805 0.14509805]\n",
            "   ...\n",
            "   [0.14509805 0.14509805 0.14509805]\n",
            "   [0.14509805 0.14509805 0.14509805]\n",
            "   [0.14509805 0.14509805 0.14509805]]\n",
            "\n",
            "  [[0.14509805 0.14509805 0.14509805]\n",
            "   [0.14509805 0.14509805 0.14509805]\n",
            "   [0.14509805 0.14509805 0.14509805]\n",
            "   ...\n",
            "   [0.14509805 0.14509805 0.14509805]\n",
            "   [0.14509805 0.14509805 0.14509805]\n",
            "   [0.14509805 0.14509805 0.14509805]]\n",
            "\n",
            "  [[0.14509805 0.14509805 0.14509805]\n",
            "   [0.14509805 0.14509805 0.14509805]\n",
            "   [0.14509805 0.14509805 0.14509805]\n",
            "   ...\n",
            "   [0.14509805 0.14509805 0.14509805]\n",
            "   [0.14509805 0.14509805 0.14509805]\n",
            "   [0.14509805 0.14509805 0.14509805]]\n",
            "\n",
            "  ...\n",
            "\n",
            "  [[0.14509805 0.14509805 0.14509805]\n",
            "   [0.14509805 0.14509805 0.14509805]\n",
            "   [0.14509805 0.14509805 0.14509805]\n",
            "   ...\n",
            "   [0.14509805 0.14509805 0.14509805]\n",
            "   [0.14509805 0.14509805 0.14509805]\n",
            "   [0.14509805 0.14509805 0.14509805]]\n",
            "\n",
            "  [[0.14509805 0.14509805 0.14509805]\n",
            "   [0.14509805 0.14509805 0.14509805]\n",
            "   [0.14509805 0.14509805 0.14509805]\n",
            "   ...\n",
            "   [0.14509805 0.14509805 0.14509805]\n",
            "   [0.14509805 0.14509805 0.14509805]\n",
            "   [0.14509805 0.14509805 0.14509805]]\n",
            "\n",
            "  [[0.14509805 0.14509805 0.14509805]\n",
            "   [0.14509805 0.14509805 0.14509805]\n",
            "   [0.14509805 0.14509805 0.14509805]\n",
            "   ...\n",
            "   [0.14509805 0.14509805 0.14509805]\n",
            "   [0.14509805 0.14509805 0.14509805]\n",
            "   [0.14509805 0.14509805 0.14509805]]]\n",
            "\n",
            "\n",
            " [[[0.14509805 0.14509805 0.14509805]\n",
            "   [0.16862746 0.16862746 0.16862746]\n",
            "   [0.16078432 0.16078432 0.16078432]\n",
            "   ...\n",
            "   [0.16470589 0.16470589 0.16470589]\n",
            "   [0.1764706  0.1764706  0.1764706 ]\n",
            "   [0.14509805 0.14509805 0.14509805]]\n",
            "\n",
            "  [[0.15686275 0.15686275 0.15686275]\n",
            "   [0.16078432 0.16078432 0.16078432]\n",
            "   [0.16862746 0.16862746 0.16862746]\n",
            "   ...\n",
            "   [0.15686275 0.15686275 0.15686275]\n",
            "   [0.15294118 0.15294118 0.15294118]\n",
            "   [0.17254902 0.17254902 0.17254902]]\n",
            "\n",
            "  [[0.16470589 0.16470589 0.16470589]\n",
            "   [0.16470589 0.16470589 0.16470589]\n",
            "   [0.16862746 0.16862746 0.16862746]\n",
            "   ...\n",
            "   [0.16078432 0.16078432 0.16078432]\n",
            "   [0.16078432 0.16078432 0.16078432]\n",
            "   [0.15686275 0.15686275 0.15686275]]\n",
            "\n",
            "  ...\n",
            "\n",
            "  [[0.15686275 0.15686275 0.15686275]\n",
            "   [0.16470589 0.16470589 0.16470589]\n",
            "   [0.16078432 0.16078432 0.16078432]\n",
            "   ...\n",
            "   [0.15686275 0.15686275 0.15686275]\n",
            "   [0.16470589 0.16470589 0.16470589]\n",
            "   [0.16862746 0.16862746 0.16862746]]\n",
            "\n",
            "  [[0.15686275 0.15686275 0.15686275]\n",
            "   [0.15294118 0.15294118 0.15294118]\n",
            "   [0.16078432 0.16078432 0.16078432]\n",
            "   ...\n",
            "   [0.17254902 0.17254902 0.17254902]\n",
            "   [0.16470589 0.16470589 0.16470589]\n",
            "   [0.16470589 0.16470589 0.16470589]]\n",
            "\n",
            "  [[0.14509805 0.14509805 0.14509805]\n",
            "   [0.15294118 0.15294118 0.15294118]\n",
            "   [0.16078432 0.16078432 0.16078432]\n",
            "   ...\n",
            "   [0.16470589 0.16470589 0.16470589]\n",
            "   [0.16470589 0.16470589 0.16470589]\n",
            "   [0.16470589 0.16470589 0.16470589]]]\n",
            "\n",
            "\n",
            " [[[0.14509805 0.14509805 0.14509805]\n",
            "   [0.14509805 0.14509805 0.14509805]\n",
            "   [0.14509805 0.14509805 0.14509805]\n",
            "   ...\n",
            "   [0.14509805 0.14509805 0.14509805]\n",
            "   [0.14509805 0.14509805 0.14509805]\n",
            "   [0.14509805 0.14509805 0.14509805]]\n",
            "\n",
            "  [[0.14509805 0.14509805 0.14509805]\n",
            "   [0.14509805 0.14509805 0.14509805]\n",
            "   [0.14509805 0.14509805 0.14509805]\n",
            "   ...\n",
            "   [0.14509805 0.14509805 0.14509805]\n",
            "   [0.14509805 0.14509805 0.14509805]\n",
            "   [0.14509805 0.14509805 0.14509805]]\n",
            "\n",
            "  [[0.14509805 0.14509805 0.14509805]\n",
            "   [0.14509805 0.14509805 0.14509805]\n",
            "   [0.14509805 0.14509805 0.14509805]\n",
            "   ...\n",
            "   [0.14509805 0.14509805 0.14509805]\n",
            "   [0.14509805 0.14509805 0.14509805]\n",
            "   [0.14509805 0.14509805 0.14509805]]\n",
            "\n",
            "  ...\n",
            "\n",
            "  [[0.14509805 0.14509805 0.14509805]\n",
            "   [0.14509805 0.14509805 0.14509805]\n",
            "   [0.14509805 0.14509805 0.14509805]\n",
            "   ...\n",
            "   [0.14509805 0.14509805 0.14509805]\n",
            "   [0.14509805 0.14509805 0.14509805]\n",
            "   [0.14509805 0.14509805 0.14509805]]\n",
            "\n",
            "  [[0.14509805 0.14509805 0.14509805]\n",
            "   [0.14509805 0.14509805 0.14509805]\n",
            "   [0.14509805 0.14509805 0.14509805]\n",
            "   ...\n",
            "   [0.14509805 0.14509805 0.14509805]\n",
            "   [0.14509805 0.14509805 0.14509805]\n",
            "   [0.14509805 0.14509805 0.14509805]]\n",
            "\n",
            "  [[0.14509805 0.14509805 0.14509805]\n",
            "   [0.14509805 0.14509805 0.14509805]\n",
            "   [0.14509805 0.14509805 0.14509805]\n",
            "   ...\n",
            "   [0.14509805 0.14509805 0.14509805]\n",
            "   [0.14509805 0.14509805 0.14509805]\n",
            "   [0.14509805 0.14509805 0.14509805]]]]\n"
          ],
          "name": "stdout"
        }
      ]
    },
    {
      "cell_type": "code",
      "metadata": {
        "id": "IAWKasmci6MX"
      },
      "source": [
        "    #array = np.reshape(X,(64,256,256,3)) \n"
      ],
      "execution_count": null,
      "outputs": []
    },
    {
      "cell_type": "code",
      "metadata": {
        "id": "McqTL_mffwEy",
        "outputId": "25230606-568a-4238-cf32-07b8a86e64cb",
        "colab": {
          "base_uri": "https://localhost:8080/",
          "height": 364
        }
      },
      "source": [
        "from PIL import Image\n",
        "import numpy as np\n",
        "\n",
        "img = Image.fromarray(array, 'RGB')\n",
        "img.save('test.png')\n",
        "img.show()"
      ],
      "execution_count": null,
      "outputs": [
        {
          "output_type": "error",
          "ename": "ValueError",
          "evalue": "ignored",
          "traceback": [
            "\u001b[0;31m---------------------------------------------------------------------------\u001b[0m",
            "\u001b[0;31mValueError\u001b[0m                                Traceback (most recent call last)",
            "\u001b[0;32m<ipython-input-96-0e9ef8cd06b4>\u001b[0m in \u001b[0;36m<module>\u001b[0;34m()\u001b[0m\n\u001b[1;32m      2\u001b[0m \u001b[0;32mimport\u001b[0m \u001b[0mnumpy\u001b[0m \u001b[0;32mas\u001b[0m \u001b[0mnp\u001b[0m\u001b[0;34m\u001b[0m\u001b[0;34m\u001b[0m\u001b[0m\n\u001b[1;32m      3\u001b[0m \u001b[0;34m\u001b[0m\u001b[0m\n\u001b[0;32m----> 4\u001b[0;31m \u001b[0mimg\u001b[0m \u001b[0;34m=\u001b[0m \u001b[0mImage\u001b[0m\u001b[0;34m.\u001b[0m\u001b[0mfromarray\u001b[0m\u001b[0;34m(\u001b[0m\u001b[0marray\u001b[0m\u001b[0;34m,\u001b[0m \u001b[0;34m'RGB'\u001b[0m\u001b[0;34m)\u001b[0m\u001b[0;34m\u001b[0m\u001b[0;34m\u001b[0m\u001b[0m\n\u001b[0m\u001b[1;32m      5\u001b[0m \u001b[0mimg\u001b[0m\u001b[0;34m.\u001b[0m\u001b[0msave\u001b[0m\u001b[0;34m(\u001b[0m\u001b[0;34m'test.png'\u001b[0m\u001b[0;34m)\u001b[0m\u001b[0;34m\u001b[0m\u001b[0;34m\u001b[0m\u001b[0m\n\u001b[1;32m      6\u001b[0m \u001b[0mimg\u001b[0m\u001b[0;34m.\u001b[0m\u001b[0mshow\u001b[0m\u001b[0;34m(\u001b[0m\u001b[0;34m)\u001b[0m\u001b[0;34m\u001b[0m\u001b[0;34m\u001b[0m\u001b[0m\n",
            "\u001b[0;32m/usr/local/lib/python3.6/dist-packages/PIL/Image.py\u001b[0m in \u001b[0;36mfromarray\u001b[0;34m(obj, mode)\u001b[0m\n\u001b[1;32m   2690\u001b[0m         \u001b[0mndmax\u001b[0m \u001b[0;34m=\u001b[0m \u001b[0;36m4\u001b[0m\u001b[0;34m\u001b[0m\u001b[0;34m\u001b[0m\u001b[0m\n\u001b[1;32m   2691\u001b[0m     \u001b[0;32mif\u001b[0m \u001b[0mndim\u001b[0m \u001b[0;34m>\u001b[0m \u001b[0mndmax\u001b[0m\u001b[0;34m:\u001b[0m\u001b[0;34m\u001b[0m\u001b[0;34m\u001b[0m\u001b[0m\n\u001b[0;32m-> 2692\u001b[0;31m         \u001b[0;32mraise\u001b[0m \u001b[0mValueError\u001b[0m\u001b[0;34m(\u001b[0m\u001b[0;34m\"Too many dimensions: %d > %d.\"\u001b[0m \u001b[0;34m%\u001b[0m \u001b[0;34m(\u001b[0m\u001b[0mndim\u001b[0m\u001b[0;34m,\u001b[0m \u001b[0mndmax\u001b[0m\u001b[0;34m)\u001b[0m\u001b[0;34m)\u001b[0m\u001b[0;34m\u001b[0m\u001b[0;34m\u001b[0m\u001b[0m\n\u001b[0m\u001b[1;32m   2693\u001b[0m \u001b[0;34m\u001b[0m\u001b[0m\n\u001b[1;32m   2694\u001b[0m     \u001b[0msize\u001b[0m \u001b[0;34m=\u001b[0m \u001b[0mshape\u001b[0m\u001b[0;34m[\u001b[0m\u001b[0;36m1\u001b[0m\u001b[0;34m]\u001b[0m\u001b[0;34m,\u001b[0m \u001b[0mshape\u001b[0m\u001b[0;34m[\u001b[0m\u001b[0;36m0\u001b[0m\u001b[0;34m]\u001b[0m\u001b[0;34m\u001b[0m\u001b[0;34m\u001b[0m\u001b[0m\n",
            "\u001b[0;31mValueError\u001b[0m: Too many dimensions: 4 > 3."
          ]
        }
      ]
    },
    {
      "cell_type": "code",
      "metadata": {
        "id": "vXZUL1agiSGg"
      },
      "source": [
        ""
      ],
      "execution_count": null,
      "outputs": []
    }
  ]
}
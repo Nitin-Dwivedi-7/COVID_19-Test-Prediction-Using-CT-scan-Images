{
  "nbformat": 4,
  "nbformat_minor": 0,
  "metadata": {
    "colab": {
      "name": "CNN_major_25GB.ipynb",
      "provenance": [],
      "collapsed_sections": [],
      "toc_visible": true,
      "machine_shape": "hm",
      "include_colab_link": true
    },
    "kernelspec": {
      "name": "python3",
      "display_name": "Python 3"
    },
    "accelerator": "TPU"
  },
  "cells": [
    {
      "cell_type": "markdown",
      "metadata": {
        "id": "view-in-github",
        "colab_type": "text"
      },
      "source": [
        "<a href=\"https://colab.research.google.com/github/Nitin-Dwivedi-7/COVID_19-Test-Prediction-Using-CT-scan-Images/blob/main/CNN_major_25GB.ipynb\" target=\"_parent\"><img src=\"https://colab.research.google.com/assets/colab-badge.svg\" alt=\"Open In Colab\"/></a>"
      ]
    },
    {
      "cell_type": "markdown",
      "metadata": {
        "id": "4cbgwZWWfWpp"
      },
      "source": [
        "# New Section"
      ]
    },
    {
      "cell_type": "code",
      "metadata": {
        "id": "tAb77yZ9fzMG",
        "outputId": "ef6e56ab-3060-4b97-8d0b-e6e82a0890c3",
        "colab": {
          "base_uri": "https://localhost:8080/",
          "height": 35
        }
      },
      "source": [
        "from google.colab import drive\n",
        "drive.mount('/content/drive')"
      ],
      "execution_count": null,
      "outputs": [
        {
          "output_type": "stream",
          "text": [
            "Mounted at /content/drive\n"
          ],
          "name": "stdout"
        }
      ]
    },
    {
      "cell_type": "code",
      "metadata": {
        "id": "pafL7Li0jyXW"
      },
      "source": [
        "#import Keras packages\n",
        "import tensorflow as tf\n",
        "import numpy as np\n",
        "import keras\n",
        "from keras.models import Sequential\n",
        "from keras.layers import Convolution2D\n",
        "from keras.layers import MaxPooling2D\n",
        "from keras.layers import Flatten\n",
        "from keras.layers import Dense\n",
        "from keras.layers import Dropout\n",
        "from keras.callbacks import ModelCheckpoint, EarlyStopping\n",
        "from keras.preprocessing.image import load_img\n",
        "import random"
      ],
      "execution_count": null,
      "outputs": []
    },
    {
      "cell_type": "code",
      "metadata": {
        "id": "8JDkZP5cDs03"
      },
      "source": [
        "import pickle \n",
        "file = \"/content/drive/My Drive/data_5K.pkl\"\n",
        "f_o=open(file,\"rb\")\n",
        "data=pickle.load(f_o)\n",
        "f_o.close()\n",
        "file= \"/content/drive/My Drive/labels_5k.pkl\"\n",
        "f_o=open(file,\"rb\")\n",
        "labels=pickle.load(f_o)\n",
        "f_o.close()"
      ],
      "execution_count": null,
      "outputs": []
    },
    {
      "cell_type": "code",
      "metadata": {
        "id": "-xmmlN6hWdyw",
        "outputId": "fc9a44a1-5e5e-4fa7-8663-e13c19f23d47",
        "colab": {
          "base_uri": "https://localhost:8080/",
          "height": 35
        }
      },
      "source": [
        ""
      ],
      "execution_count": null,
      "outputs": [
        {
          "output_type": "execute_result",
          "data": {
            "text/plain": [
              "9944"
            ]
          },
          "metadata": {
            "tags": []
          },
          "execution_count": 5
        }
      ]
    },
    {
      "cell_type": "markdown",
      "metadata": {
        "id": "kp7hclitImAa"
      },
      "source": [
        "# New Section"
      ]
    },
    {
      "cell_type": "code",
      "metadata": {
        "id": "rtgtVBi6GeNu"
      },
      "source": [
        "data = np.array(data)\n",
        "labels = np.array(labels)"
      ],
      "execution_count": null,
      "outputs": []
    },
    {
      "cell_type": "code",
      "metadata": {
        "id": "7GVj3UX1Gyh5"
      },
      "source": [
        "from keras.utils.np_utils import to_categorical   \n",
        "\n",
        "categorical_labels = to_categorical(labels, num_classes=2)\n"
      ],
      "execution_count": null,
      "outputs": []
    },
    {
      "cell_type": "code",
      "metadata": {
        "id": "cRBwqyGYG0jf"
      },
      "source": [
        "X_train1 = data\n",
        "ytrain1 = categorical_labels\n"
      ],
      "execution_count": null,
      "outputs": []
    },
    {
      "cell_type": "code",
      "metadata": {
        "id": "uYue_JC8G2nB",
        "outputId": "b5bcf7d0-489e-4544-a46c-1e50b55ddfee",
        "colab": {
          "base_uri": "https://localhost:8080/",
          "height": 515
        }
      },
      "source": [
        "\n",
        "for index in range(0,10):\n",
        "\n",
        "    \n",
        "  classifier = Sequential()\n",
        "\n",
        "  classifier.add(Convolution2D(32, 3, 3, input_shape = (256, 256, 3), activation = 'relu'))\n",
        "  classifier.add(MaxPooling2D(pool_size = (2, 2)))\n",
        " \n",
        "  classifier.add(Convolution2D(16, 3, 3, activation = 'relu'))\n",
        "  classifier.add(MaxPooling2D(pool_size = (2, 2)))\n",
        " \n",
        "  classifier.add(Convolution2D(8, 3, 3, activation = 'relu'))\n",
        "  classifier.add(MaxPooling2D(pool_size = (2, 2)))\n",
        "\n",
        "\n",
        "\n",
        "  classifier.add(Flatten())\n",
        "\n",
        "    #hidden layer\n",
        "  classifier.add(Dense(128, activation = 'relu'))\n",
        "  classifier.add(Dropout(0.5))\n",
        "\n",
        "    #output layer\n",
        "  classifier.add(Dense(2, activation = 'softmax'))\n",
        "\n",
        "\n",
        "classifier.summary()\n"
      ],
      "execution_count": null,
      "outputs": [
        {
          "output_type": "stream",
          "text": [
            "Model: \"sequential_9\"\n",
            "_________________________________________________________________\n",
            "Layer (type)                 Output Shape              Param #   \n",
            "=================================================================\n",
            "conv2d_27 (Conv2D)           (None, 85, 85, 32)        896       \n",
            "_________________________________________________________________\n",
            "max_pooling2d_27 (MaxPooling (None, 42, 42, 32)        0         \n",
            "_________________________________________________________________\n",
            "conv2d_28 (Conv2D)           (None, 14, 14, 16)        4624      \n",
            "_________________________________________________________________\n",
            "max_pooling2d_28 (MaxPooling (None, 7, 7, 16)          0         \n",
            "_________________________________________________________________\n",
            "conv2d_29 (Conv2D)           (None, 2, 2, 8)           1160      \n",
            "_________________________________________________________________\n",
            "max_pooling2d_29 (MaxPooling (None, 1, 1, 8)           0         \n",
            "_________________________________________________________________\n",
            "flatten_9 (Flatten)          (None, 8)                 0         \n",
            "_________________________________________________________________\n",
            "dense_18 (Dense)             (None, 128)               1152      \n",
            "_________________________________________________________________\n",
            "dropout_9 (Dropout)          (None, 128)               0         \n",
            "_________________________________________________________________\n",
            "dense_19 (Dense)             (None, 2)                 258       \n",
            "=================================================================\n",
            "Total params: 8,090\n",
            "Trainable params: 8,090\n",
            "Non-trainable params: 0\n",
            "_________________________________________________________________\n"
          ],
          "name": "stdout"
        }
      ]
    },
    {
      "cell_type": "code",
      "metadata": {
        "id": "EW9baOOJG8dG"
      },
      "source": [
        "from sklearn.model_selection import train_test_split\n",
        "classifier.compile(optimizer = 'adam', loss = 'categorical_crossentropy', metrics = ['accuracy'])\n",
        "\n",
        "\n",
        "X_train, X_test1, ytrain, ytest1 = train_test_split(X_train1, ytrain1, test_size=0.1,\n",
        "                                                    random_state=random.randint(0,100))\n",
        "    \n",
        "X_val, X_test, yval, ytest = train_test_split(X_test1, ytest1, test_size=0.5,\n",
        "                                                    random_state=random.randint(0,100))\n",
        "    "
      ],
      "execution_count": null,
      "outputs": []
    },
    {
      "cell_type": "code",
      "metadata": {
        "id": "Vv2wFjulezyc",
        "outputId": "706abce9-625c-41a9-b750-cc20789e1332",
        "colab": {
          "base_uri": "https://localhost:8080/",
          "height": 159
        }
      },
      "source": [
        "import pandas as pd\n",
        "\n",
        "print(X_train.shape)\n",
        "print(X_test1.shape)\n",
        "print(ytrain.shape)\n",
        "print(ytest1.shape)\n",
        "print(X_val.size)\n",
        "print(X_test.shape)\n",
        "print(yval.shape)\n",
        "print(ytest.shape)"
      ],
      "execution_count": null,
      "outputs": [
        {
          "output_type": "stream",
          "text": [
            "(8949, 256, 256, 3)\n",
            "(995, 256, 256, 3)\n",
            "(8949, 2)\n",
            "(995, 2)\n",
            "97714176\n",
            "(498, 256, 256, 3)\n",
            "(497, 2)\n",
            "(498, 2)\n"
          ],
          "name": "stdout"
        }
      ]
    },
    {
      "cell_type": "code",
      "metadata": {
        "id": "6eQDhB8yHAiq"
      },
      "source": [
        "from keras.preprocessing.image import ImageDataGenerator\n",
        "    \n",
        "train_datagen = ImageDataGenerator(\n",
        "            rescale=1./255,\n",
        "            shear_range=0.2,\n",
        "            zoom_range=0.2,\n",
        "            horizontal_flip=True)\n",
        "    \n",
        "test_datagen = ImageDataGenerator(rescale=1./255)\n",
        "    \n",
        "val_datagen = ImageDataGenerator(rescale=1./255)\n",
        "    \n",
        "training_set = train_datagen.flow(\n",
        "            X_train, ytrain,\n",
        "            batch_size=64)\n",
        "    \n",
        "val_set = val_datagen.flow(\n",
        "            X_val, yval,\n",
        "            batch_size=64)\n",
        "    \n",
        "test_set = test_datagen.flow(\n",
        "            X_test, ytest,\n",
        "            batch_size=64)\n",
        "X, y = test_set.next()\n"
      ],
      "execution_count": null,
      "outputs": []
    },
    {
      "cell_type": "code",
      "metadata": {
        "id": "BtJ78Wi6H38I",
        "outputId": "1283e58f-399c-4bef-87ea-b9471c498a1b",
        "colab": {
          "base_uri": "https://localhost:8080/",
          "height": 1000
        }
      },
      "source": [
        "\n",
        "\n",
        "\n",
        "classifier.fit_generator(\n",
        "            training_set,\n",
        "            steps_per_epoch=20,\n",
        "            epochs=100,\n",
        "            validation_data=val_set,\n",
        "            validation_steps=20)\n",
        "    \n",
        "w_file = 'Wilson_trained_model_weights_k101_' + str(index) + '.h5'\n",
        "classifier.save_weights(w_file)"
      ],
      "execution_count": null,
      "outputs": [
        {
          "output_type": "stream",
          "text": [
            "Epoch 1/100\n",
            "20/20 [==============================] - ETA: 0s - loss: 0.0720 - accuracy: 0.9797WARNING:tensorflow:Your input ran out of data; interrupting training. Make sure that your dataset or generator can generate at least `steps_per_epoch * epochs` batches (in this case, 20 batches). You may need to use the repeat() function when building your dataset.\n",
            "20/20 [==============================] - 17s 836ms/step - loss: 0.0720 - accuracy: 0.9797 - val_loss: 0.0260 - val_accuracy: 0.9899\n",
            "Epoch 2/100\n",
            "20/20 [==============================] - 16s 805ms/step - loss: 0.0608 - accuracy: 0.9820\n",
            "Epoch 3/100\n",
            "20/20 [==============================] - 16s 804ms/step - loss: 0.0335 - accuracy: 0.9914\n",
            "Epoch 4/100\n",
            "20/20 [==============================] - 16s 804ms/step - loss: 0.0387 - accuracy: 0.9867\n",
            "Epoch 5/100\n",
            "20/20 [==============================] - 16s 804ms/step - loss: 0.0570 - accuracy: 0.9820\n",
            "Epoch 6/100\n",
            "20/20 [==============================] - 16s 803ms/step - loss: 0.0570 - accuracy: 0.9836\n",
            "Epoch 7/100\n",
            "20/20 [==============================] - 16s 805ms/step - loss: 0.0338 - accuracy: 0.9914\n",
            "Epoch 8/100\n",
            "20/20 [==============================] - 16s 797ms/step - loss: 0.0407 - accuracy: 0.9882\n",
            "Epoch 9/100\n",
            "20/20 [==============================] - 16s 804ms/step - loss: 0.0453 - accuracy: 0.9859\n",
            "Epoch 10/100\n",
            "20/20 [==============================] - 16s 803ms/step - loss: 0.0306 - accuracy: 0.9914\n",
            "Epoch 11/100\n",
            "20/20 [==============================] - 16s 802ms/step - loss: 0.0455 - accuracy: 0.9858\n",
            "Epoch 12/100\n",
            "20/20 [==============================] - 16s 805ms/step - loss: 0.0178 - accuracy: 0.9961\n",
            "Epoch 13/100\n",
            "20/20 [==============================] - 16s 803ms/step - loss: 0.0513 - accuracy: 0.9852\n",
            "Epoch 14/100\n",
            "20/20 [==============================] - 16s 803ms/step - loss: 0.0281 - accuracy: 0.9922\n",
            "Epoch 15/100\n",
            "20/20 [==============================] - 16s 805ms/step - loss: 0.0278 - accuracy: 0.9922\n",
            "Epoch 16/100\n",
            "20/20 [==============================] - 16s 804ms/step - loss: 0.0371 - accuracy: 0.9914\n",
            "Epoch 17/100\n",
            "20/20 [==============================] - 16s 804ms/step - loss: 0.0310 - accuracy: 0.9898\n",
            "Epoch 18/100\n",
            "20/20 [==============================] - 16s 803ms/step - loss: 0.0321 - accuracy: 0.9875\n",
            "Epoch 19/100\n",
            "20/20 [==============================] - 16s 796ms/step - loss: 0.0348 - accuracy: 0.9913\n",
            "Epoch 20/100\n",
            "20/20 [==============================] - 16s 803ms/step - loss: 0.0471 - accuracy: 0.9875\n",
            "Epoch 21/100\n",
            "20/20 [==============================] - 16s 804ms/step - loss: 0.0335 - accuracy: 0.9891\n",
            "Epoch 22/100\n",
            "20/20 [==============================] - 16s 795ms/step - loss: 0.0408 - accuracy: 0.9842\n",
            "Epoch 23/100\n",
            "20/20 [==============================] - 16s 798ms/step - loss: 0.0516 - accuracy: 0.9842\n",
            "Epoch 24/100\n",
            "20/20 [==============================] - 16s 804ms/step - loss: 0.0334 - accuracy: 0.9914\n",
            "Epoch 25/100\n",
            "20/20 [==============================] - 16s 804ms/step - loss: 0.0235 - accuracy: 0.9953\n",
            "Epoch 26/100\n",
            "20/20 [==============================] - 16s 805ms/step - loss: 0.0405 - accuracy: 0.9859\n",
            "Epoch 27/100\n",
            "20/20 [==============================] - 16s 802ms/step - loss: 0.0314 - accuracy: 0.9922\n",
            "Epoch 28/100\n",
            "20/20 [==============================] - 16s 807ms/step - loss: 0.0664 - accuracy: 0.9789\n",
            "Epoch 29/100\n",
            "20/20 [==============================] - 16s 806ms/step - loss: 0.0313 - accuracy: 0.9914\n",
            "Epoch 30/100\n",
            "20/20 [==============================] - 16s 803ms/step - loss: 0.0333 - accuracy: 0.9930\n",
            "Epoch 31/100\n",
            "20/20 [==============================] - 16s 806ms/step - loss: 0.0462 - accuracy: 0.9867\n",
            "Epoch 32/100\n",
            "20/20 [==============================] - 16s 804ms/step - loss: 0.0410 - accuracy: 0.9883\n",
            "Epoch 33/100\n",
            "20/20 [==============================] - 16s 797ms/step - loss: 0.0422 - accuracy: 0.9874\n",
            "Epoch 34/100\n",
            "20/20 [==============================] - 16s 805ms/step - loss: 0.0298 - accuracy: 0.9875\n",
            "Epoch 35/100\n",
            "20/20 [==============================] - 16s 807ms/step - loss: 0.0332 - accuracy: 0.9883\n",
            "Epoch 36/100\n",
            "20/20 [==============================] - 16s 804ms/step - loss: 0.0621 - accuracy: 0.9836\n",
            "Epoch 37/100\n",
            "20/20 [==============================] - 16s 804ms/step - loss: 0.0531 - accuracy: 0.9859\n",
            "Epoch 38/100\n",
            "20/20 [==============================] - 16s 805ms/step - loss: 0.0736 - accuracy: 0.9773\n",
            "Epoch 39/100\n",
            "20/20 [==============================] - 16s 798ms/step - loss: 0.0392 - accuracy: 0.9874\n",
            "Epoch 40/100\n",
            "20/20 [==============================] - 16s 802ms/step - loss: 0.0620 - accuracy: 0.9812\n",
            "Epoch 41/100\n",
            "20/20 [==============================] - 16s 797ms/step - loss: 0.0426 - accuracy: 0.9874\n",
            "Epoch 42/100\n",
            "20/20 [==============================] - 16s 805ms/step - loss: 0.0474 - accuracy: 0.9852\n",
            "Epoch 43/100\n",
            "20/20 [==============================] - 16s 797ms/step - loss: 0.0409 - accuracy: 0.9866\n",
            "Epoch 44/100\n",
            "20/20 [==============================] - 16s 804ms/step - loss: 0.0570 - accuracy: 0.9773\n",
            "Epoch 45/100\n",
            "20/20 [==============================] - 16s 803ms/step - loss: 0.0411 - accuracy: 0.9852\n",
            "Epoch 46/100\n",
            "20/20 [==============================] - 16s 809ms/step - loss: 0.0322 - accuracy: 0.9922\n",
            "Epoch 47/100\n",
            "20/20 [==============================] - 16s 804ms/step - loss: 0.0404 - accuracy: 0.9875\n",
            "Epoch 48/100\n",
            "20/20 [==============================] - 16s 805ms/step - loss: 0.0216 - accuracy: 0.9937\n",
            "Epoch 49/100\n",
            "20/20 [==============================] - 16s 805ms/step - loss: 0.0423 - accuracy: 0.9875\n",
            "Epoch 50/100\n",
            "20/20 [==============================] - 16s 804ms/step - loss: 0.0313 - accuracy: 0.9937\n",
            "Epoch 51/100\n",
            "20/20 [==============================] - 16s 805ms/step - loss: 0.0322 - accuracy: 0.9891\n",
            "Epoch 52/100\n",
            "20/20 [==============================] - 16s 805ms/step - loss: 0.0480 - accuracy: 0.9836\n",
            "Epoch 53/100\n",
            "20/20 [==============================] - 16s 803ms/step - loss: 0.0503 - accuracy: 0.9852\n",
            "Epoch 54/100\n",
            "20/20 [==============================] - 16s 803ms/step - loss: 0.0367 - accuracy: 0.9898\n",
            "Epoch 55/100\n",
            "20/20 [==============================] - 16s 796ms/step - loss: 0.0412 - accuracy: 0.9890\n",
            "Epoch 56/100\n",
            "20/20 [==============================] - 16s 804ms/step - loss: 0.0585 - accuracy: 0.9805\n",
            "Epoch 57/100\n",
            "20/20 [==============================] - 16s 806ms/step - loss: 0.0307 - accuracy: 0.9898\n",
            "Epoch 58/100\n",
            "20/20 [==============================] - 16s 806ms/step - loss: 0.0285 - accuracy: 0.9914\n",
            "Epoch 59/100\n",
            "20/20 [==============================] - 16s 803ms/step - loss: 0.0552 - accuracy: 0.9805\n",
            "Epoch 60/100\n",
            "20/20 [==============================] - 16s 796ms/step - loss: 0.0303 - accuracy: 0.9882\n",
            "Epoch 61/100\n",
            "20/20 [==============================] - 16s 804ms/step - loss: 0.0367 - accuracy: 0.9867\n",
            "Epoch 62/100\n",
            "20/20 [==============================] - 16s 805ms/step - loss: 0.0366 - accuracy: 0.9875\n",
            "Epoch 63/100\n",
            "20/20 [==============================] - 16s 798ms/step - loss: 0.0344 - accuracy: 0.9858\n",
            "Epoch 64/100\n",
            "20/20 [==============================] - 16s 806ms/step - loss: 0.0372 - accuracy: 0.9898\n",
            "Epoch 65/100\n",
            "20/20 [==============================] - 16s 804ms/step - loss: 0.0357 - accuracy: 0.9891\n",
            "Epoch 66/100\n",
            "20/20 [==============================] - 16s 803ms/step - loss: 0.0356 - accuracy: 0.9914\n",
            "Epoch 67/100\n",
            "20/20 [==============================] - 16s 804ms/step - loss: 0.0219 - accuracy: 0.9914\n",
            "Epoch 68/100\n",
            "20/20 [==============================] - 16s 803ms/step - loss: 0.0434 - accuracy: 0.9867\n",
            "Epoch 69/100\n",
            "20/20 [==============================] - 16s 805ms/step - loss: 0.0370 - accuracy: 0.9867\n",
            "Epoch 70/100\n",
            "20/20 [==============================] - 16s 805ms/step - loss: 0.0347 - accuracy: 0.9898\n",
            "Epoch 71/100\n",
            "20/20 [==============================] - 16s 804ms/step - loss: 0.0250 - accuracy: 0.9930\n",
            "Epoch 72/100\n",
            "20/20 [==============================] - 16s 807ms/step - loss: 0.0228 - accuracy: 0.9922\n",
            "Epoch 73/100\n",
            "20/20 [==============================] - 16s 803ms/step - loss: 0.0291 - accuracy: 0.9914\n",
            "Epoch 74/100\n",
            "20/20 [==============================] - 16s 799ms/step - loss: 0.0389 - accuracy: 0.9882\n",
            "Epoch 75/100\n",
            "20/20 [==============================] - 16s 804ms/step - loss: 0.0448 - accuracy: 0.9898\n",
            "Epoch 76/100\n",
            "20/20 [==============================] - 16s 804ms/step - loss: 0.0362 - accuracy: 0.9891\n",
            "Epoch 77/100\n",
            "20/20 [==============================] - 16s 803ms/step - loss: 0.0434 - accuracy: 0.9805\n",
            "Epoch 78/100\n",
            "20/20 [==============================] - 16s 804ms/step - loss: 0.0503 - accuracy: 0.9836\n",
            "Epoch 79/100\n",
            "20/20 [==============================] - 16s 803ms/step - loss: 0.0438 - accuracy: 0.9898\n",
            "Epoch 80/100\n",
            "20/20 [==============================] - 16s 804ms/step - loss: 0.0393 - accuracy: 0.9883\n",
            "Epoch 81/100\n",
            "20/20 [==============================] - 16s 808ms/step - loss: 0.0464 - accuracy: 0.9852\n",
            "Epoch 82/100\n",
            "20/20 [==============================] - 16s 805ms/step - loss: 0.0332 - accuracy: 0.9922\n",
            "Epoch 83/100\n",
            "20/20 [==============================] - 16s 797ms/step - loss: 0.0220 - accuracy: 0.9945\n",
            "Epoch 84/100\n",
            "20/20 [==============================] - 16s 804ms/step - loss: 0.0482 - accuracy: 0.9836\n",
            "Epoch 85/100\n",
            "20/20 [==============================] - 16s 804ms/step - loss: 0.0343 - accuracy: 0.9898\n",
            "Epoch 86/100\n",
            "20/20 [==============================] - 16s 806ms/step - loss: 0.0310 - accuracy: 0.9922\n",
            "Epoch 87/100\n",
            "20/20 [==============================] - 16s 805ms/step - loss: 0.0304 - accuracy: 0.9906\n",
            "Epoch 88/100\n",
            "20/20 [==============================] - 16s 803ms/step - loss: 0.0363 - accuracy: 0.9891\n",
            "Epoch 89/100\n",
            "20/20 [==============================] - 16s 806ms/step - loss: 0.0299 - accuracy: 0.9898\n",
            "Epoch 90/100\n",
            "20/20 [==============================] - 16s 804ms/step - loss: 0.0185 - accuracy: 0.9953\n",
            "Epoch 91/100\n",
            "20/20 [==============================] - 16s 805ms/step - loss: 0.0186 - accuracy: 0.9961\n",
            "Epoch 92/100\n",
            "20/20 [==============================] - 16s 806ms/step - loss: 0.0183 - accuracy: 0.9945\n",
            "Epoch 93/100\n",
            "20/20 [==============================] - 16s 803ms/step - loss: 0.0221 - accuracy: 0.9930\n",
            "Epoch 94/100\n",
            "20/20 [==============================] - 16s 803ms/step - loss: 0.0227 - accuracy: 0.9930\n",
            "Epoch 95/100\n",
            "20/20 [==============================] - 16s 804ms/step - loss: 0.0396 - accuracy: 0.9891\n",
            "Epoch 96/100\n",
            "20/20 [==============================] - 16s 804ms/step - loss: 0.0280 - accuracy: 0.9906\n",
            "Epoch 97/100\n",
            "20/20 [==============================] - 16s 805ms/step - loss: 0.0198 - accuracy: 0.9914\n",
            "Epoch 98/100\n",
            "20/20 [==============================] - 16s 807ms/step - loss: 0.0300 - accuracy: 0.9891\n",
            "Epoch 99/100\n",
            "20/20 [==============================] - 16s 805ms/step - loss: 0.0333 - accuracy: 0.9922\n",
            "Epoch 100/100\n",
            "20/20 [==============================] - 16s 803ms/step - loss: 0.0328 - accuracy: 0.9891\n"
          ],
          "name": "stdout"
        }
      ]
    },
    {
      "cell_type": "code",
      "metadata": {
        "id": "SkFwWcSFI8HT",
        "outputId": "83cbf262-9428-4848-8348-57288ec0cddf",
        "colab": {
          "base_uri": "https://localhost:8080/",
          "height": 35
        }
      },
      "source": [
        "arr = classifier.evaluate(X,y)\n"
      ],
      "execution_count": null,
      "outputs": [
        {
          "output_type": "stream",
          "text": [
            "2/2 [==============================] - 0s 4ms/step - loss: 0.0240 - accuracy: 0.9844\n"
          ],
          "name": "stdout"
        }
      ]
    },
    {
      "cell_type": "code",
      "metadata": {
        "id": "YTbgSdmdQEvP",
        "outputId": "6b45f425-8c2a-4bed-a626-89477f75cae2",
        "colab": {
          "base_uri": "https://localhost:8080/",
          "height": 52
        }
      },
      "source": [
        "arr = classifier.predict_classes(X)\n",
        "print(arr)\n"
      ],
      "execution_count": null,
      "outputs": [
        {
          "output_type": "stream",
          "text": [
            "[1 1 1 1 1 0 0 0 1 1 0 0 1 1 1 1 0 0 1 0 0 0 0 1 0 0 0 0 1 0 1 0 0 1 1 1 1\n",
            " 0 1 1 1 1 1 1 1 0 1 1 1 0 0 1 1 0 0 0 0 1 1 0 1 0 0 0]\n"
          ],
          "name": "stdout"
        }
      ]
    },
    {
      "cell_type": "code",
      "metadata": {
        "id": "b7-TawxVrv4D"
      },
      "source": [
        ""
      ],
      "execution_count": null,
      "outputs": []
    },
    {
      "cell_type": "code",
      "metadata": {
        "id": "-A58GBFlQoZ9",
        "outputId": "4b25aed4-24b6-4d9e-d7b4-e28ae9b4d575",
        "colab": {
          "base_uri": "https://localhost:8080/",
          "height": 35
        }
      },
      "source": [
        "\n",
        "x=[]\n",
        "\n",
        "image1=load_img(\"/content/drive/My Drive/Dataset/NCP/newfolder/0000 (42).png\",  \n",
        "    target_size= (256,256))\n",
        "image1=np.array(image1)\n",
        "\n",
        "x.append(image1)\n",
        "x = np.array(x)\n",
        "arr = classifier.predict_classes(x)\n",
        "print(arr)\n"
      ],
      "execution_count": null,
      "outputs": [
        {
          "output_type": "stream",
          "text": [
            "[1]\n"
          ],
          "name": "stdout"
        }
      ]
    },
    {
      "cell_type": "code",
      "metadata": {
        "id": "RsRNmXdeRcGr"
      },
      "source": [
        ""
      ],
      "execution_count": null,
      "outputs": []
    }
  ]
}